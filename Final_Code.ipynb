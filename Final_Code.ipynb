{
 "cells": [
  {
   "cell_type": "code",
   "execution_count": 1,
   "metadata": {
    "collapsed": true
   },
   "outputs": [],
   "source": [
    "import pandas as pd"
   ]
  },
  {
   "cell_type": "code",
   "execution_count": 2,
   "metadata": {},
   "outputs": [],
   "source": [
    "import setuptools"
   ]
  },
  {
   "cell_type": "code",
   "execution_count": 3,
   "metadata": {},
   "outputs": [],
   "source": [
    "data = pd.read_csv('C:/Users/prati/Desktop/Github/Python_Hiring_Test/python_hiring_test/data/raw/pitchdata.csv')"
   ]
  },
  {
   "cell_type": "code",
   "execution_count": 4,
   "metadata": {},
   "outputs": [],
   "source": [
    "# group by in python\n",
    "pitcherdata = data.groupby(['PitcherTeamId','HitterSide'],as_index = False)['PA','AB','H','TB','BB','SF','HBP'].sum()\n",
    "hitterdata = data.groupby(['HitterTeamId','PitcherSide'],as_index = False)['PA','AB','H','TB','BB','SF','HBP'].sum()\n",
    "pitcherdata1 = data.groupby(['PitcherId','HitterSide'],as_index = False)['PA','AB','H','TB','BB','SF','HBP'].sum()\n",
    "hitterdata1 = data.groupby(['HitterId','PitcherSide'],as_index = False)['PA','AB','H','TB','BB','SF','HBP'].sum()\n",
    "\n"
   ]
  },
  {
   "cell_type": "code",
   "execution_count": 5,
   "metadata": {},
   "outputs": [],
   "source": [
    "#defining subject id, split and subject for pitcherdata\n",
    "pitcherdata.columns = ['SubjectId' if x=='PitcherTeamId' else x for x in pitcherdata.columns]\n",
    "pitcherdata['Split'] = pitcherdata.HitterSide.apply(lambda x: \"vs LHH\" if x == 'L' else 'vs RHH')\n",
    "pitcherdata['Subject'] = 'PitcherTeamId'"
   ]
  },
  {
   "cell_type": "code",
   "execution_count": 6,
   "metadata": {},
   "outputs": [],
   "source": [
    "#defining subject id, split and subject for pitcherdata1\n",
    "pitcherdata1.columns = ['SubjectId' if x=='PitcherId' else x for x in pitcherdata1.columns]\n",
    "pitcherdata1['Split'] = pitcherdata1.HitterSide.apply(lambda x: \"vs LHH\" if x == 'L' else 'vs RHH')\n",
    "pitcherdata1['Subject'] = 'PitcherId'\n"
   ]
  },
  {
   "cell_type": "code",
   "execution_count": 7,
   "metadata": {},
   "outputs": [],
   "source": [
    "#defining subject id, split and subject for hitterdata\n",
    "hitterdata.columns = ['SubjectId' if x=='HitterTeamId' else x for x in hitterdata.columns]\n",
    "hitterdata['Split'] = hitterdata.PitcherSide.apply(lambda x: \"vs LHP\" if x == 'L' else 'vs RHP')\n",
    "hitterdata['Subject'] = 'HitterTeamId'"
   ]
  },
  {
   "cell_type": "code",
   "execution_count": 8,
   "metadata": {
    "collapsed": true
   },
   "outputs": [],
   "source": [
    "#defining subject id, split and subject for hitterdata1\n",
    "hitterdata1.columns = ['SubjectId' if x=='HitterId' else x for x in hitterdata1.columns]\n",
    "hitterdata1['Split'] = hitterdata1.PitcherSide.apply(lambda x: \"vs LHP\" if x == 'L' else 'vs RHP')\n",
    "hitterdata1['Subject'] = 'HitterId'\n",
    "\n"
   ]
  },
  {
   "cell_type": "code",
   "execution_count": 27,
   "metadata": {},
   "outputs": [],
   "source": [
    "# combining the data and picking PA>25\n",
    "outputcolumns = ['SubjectId','Split','Subject','PA','AB','H','TB','BB','SF','HBP']\n",
    "\n",
    "concatdata1 = pd.concat([pitcherdata[outputcolumns],hitterdata[outputcolumns],\n",
    "                        pitcherdata1[outputcolumns],hitterdata1[outputcolumns]],axis = 0)\n",
    "concatdata=concatdata1.query('PA>25')"
   ]
  },
  {
   "cell_type": "code",
   "execution_count": 28,
   "metadata": {},
   "outputs": [
    {
     "name": "stderr",
     "output_type": "stream",
     "text": [
      "C:\\Users\\prati\\Anaconda3\\lib\\site-packages\\ipykernel_launcher.py:2: SettingWithCopyWarning: \n",
      "A value is trying to be set on a copy of a slice from a DataFrame.\n",
      "Try using .loc[row_indexer,col_indexer] = value instead\n",
      "\n",
      "See the caveats in the documentation: http://pandas.pydata.org/pandas-docs/stable/indexing.html#indexing-view-versus-copy\n",
      "  \n",
      "C:\\Users\\prati\\Anaconda3\\lib\\site-packages\\ipykernel_launcher.py:3: SettingWithCopyWarning: \n",
      "A value is trying to be set on a copy of a slice from a DataFrame.\n",
      "Try using .loc[row_indexer,col_indexer] = value instead\n",
      "\n",
      "See the caveats in the documentation: http://pandas.pydata.org/pandas-docs/stable/indexing.html#indexing-view-versus-copy\n",
      "  This is separate from the ipykernel package so we can avoid doing imports until\n",
      "C:\\Users\\prati\\Anaconda3\\lib\\site-packages\\ipykernel_launcher.py:4: SettingWithCopyWarning: \n",
      "A value is trying to be set on a copy of a slice from a DataFrame.\n",
      "Try using .loc[row_indexer,col_indexer] = value instead\n",
      "\n",
      "See the caveats in the documentation: http://pandas.pydata.org/pandas-docs/stable/indexing.html#indexing-view-versus-copy\n",
      "  after removing the cwd from sys.path.\n",
      "C:\\Users\\prati\\Anaconda3\\lib\\site-packages\\ipykernel_launcher.py:5: SettingWithCopyWarning: \n",
      "A value is trying to be set on a copy of a slice from a DataFrame.\n",
      "Try using .loc[row_indexer,col_indexer] = value instead\n",
      "\n",
      "See the caveats in the documentation: http://pandas.pydata.org/pandas-docs/stable/indexing.html#indexing-view-versus-copy\n",
      "  \"\"\"\n"
     ]
    }
   ],
   "source": [
    "# applying the formulae's\n",
    "concatdata['AVG'] = (concatdata.H/ concatdata.AB).round(3)\n",
    "concatdata['OBP'] = ((concatdata.H + concatdata.BB + concatdata.HBP) / (concatdata.AB + concatdata.BB + concatdata.HBP + concatdata.SF)).round(3)\n",
    "concatdata['SLG'] = (concatdata.TB / concatdata.AB).round(3)\n",
    "concatdata['OPS'] = concatdata.SLG + concatdata.OBP"
   ]
  },
  {
   "cell_type": "code",
   "execution_count": 29,
   "metadata": {},
   "outputs": [],
   "source": [
    "concatdata = pd.melt(concatdata, id_vars = ['SubjectId','Split','Subject'], value_vars = ['AVG','OBP','SLG','OPS'], var_name = 'Stat',value_name = 'Value')\n"
   ]
  },
  {
   "cell_type": "code",
   "execution_count": 31,
   "metadata": {},
   "outputs": [],
   "source": [
    "# Saving and export\n",
    "concatdata.sort_values(by = ['SubjectId','Stat','Split','Subject'])[['SubjectId','Stat','Split','Subject','Value']].to_csv('C:/Users/prati/Desktop/Inside_Edge/output.csv',index = False)\n",
    "\n"
   ]
  },
  {
   "cell_type": "code",
   "execution_count": null,
   "metadata": {
    "collapsed": true
   },
   "outputs": [],
   "source": []
  }
 ],
 "metadata": {
  "kernelspec": {
   "display_name": "Python 3",
   "language": "python",
   "name": "python3"
  },
  "language_info": {
   "codemirror_mode": {
    "name": "ipython",
    "version": 3
   },
   "file_extension": ".py",
   "mimetype": "text/x-python",
   "name": "python",
   "nbconvert_exporter": "python",
   "pygments_lexer": "ipython3",
   "version": "3.6.1"
  }
 },
 "nbformat": 4,
 "nbformat_minor": 2
}
